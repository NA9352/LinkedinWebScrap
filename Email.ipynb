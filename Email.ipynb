{
 "cells": [
  {
   "cell_type": "code",
   "execution_count": 12,
   "metadata": {},
   "outputs": [],
   "source": [
    "import urllib.request \n",
    "from bs4 import BeautifulSoup\n",
    "import pandas as pd\n",
    "from selenium import webdriver\n",
    "from selenium.webdriver.chrome.service import Service\n",
    "from selenium.webdriver.common.by import By\n",
    "from webdriver_manager.chrome import ChromeDriverManager\n",
    "from time import sleep"
   ]
  },
  {
   "cell_type": "code",
   "execution_count": 13,
   "metadata": {},
   "outputs": [],
   "source": [
    "df = pd.read_csv('Test.csv')#.sample(n=20)"
   ]
  },
  {
   "cell_type": "code",
   "execution_count": 14,
   "metadata": {},
   "outputs": [],
   "source": [
    "linkedin_username = \"\" "\n",
    "linkedin_password = \"\"\n",
    "\n",
    "s = Service('https://my.shell.com/:u:/r/personal/nikita_n_agrawal_shell_com/Documents/Documents/Data%20Science/WebScrap/chromedriver.exe')\n",
    "driver = webdriver.Chrome(service=s)\n",
    "driver.get(\"https://www.linkedin.com/login?fromSignIn=true&trk=guest_homepage-basic_nav-header-signin\")\n",
    "sleep(3)\n",
    "driver.find_element(By.XPATH, '//*[@id=\"username\"]').send_keys(linkedin_username)\n",
    "driver.find_element(By.XPATH, '//*[@id=\"password\"]').send_keys(linkedin_password)\n",
    "sleep(3)\n",
    "driver.find_element(By.XPATH, '//*[@id=\"organic-div\"]/form/div[3]/button').click()"
   ]
  },
  {
   "cell_type": "code",
   "execution_count": 15,
   "metadata": {},
   "outputs": [],
   "source": [
    "bio = {'Email':[]}\n",
    "\n",
    "for url in df.loc[:,'URLs']:\n",
    "    sleep(2)\n",
    "    driver.get(url + 'overlay/contact-info/')\n",
    "    try:\n",
    "        email = driver.find_elements(By.CLASS_NAME, 'pv-contact-info__contact-type.ci-email')[0].find_elements(By.TAG_NAME,'div')[0].text\n",
    "    except:\n",
    "        email = 'Not Available'\n",
    "    bio['Email'].append(email)\n",
    "    \n"
   ]
  },
  {
   "cell_type": "code",
   "execution_count": 16,
   "metadata": {},
   "outputs": [
    {
     "data": {
      "text/plain": [
       "{'Email': ['Not Available',\n",
       "  'Not Available',\n",
       "  'Not Available',\n",
       "  'Not Available',\n",
       "  'Not Available',\n",
       "  'Not Available',\n",
       "  'Not Available',\n",
       "  'Not Available',\n",
       "  'nikita9352@gmail.com',\n",
       "  'Not Available',\n",
       "  'Not Available',\n",
       "  'Not Available',\n",
       "  'Not Available',\n",
       "  'Not Available',\n",
       "  'Not Available',\n",
       "  'Not Available',\n",
       "  'Not Available',\n",
       "  'Not Available',\n",
       "  'Not Available',\n",
       "  'Not Available']}"
      ]
     },
     "execution_count": 16,
     "metadata": {},
     "output_type": "execute_result"
    }
   ],
   "source": [
    "bio"
   ]
  },
  {
   "cell_type": "markdown",
   "metadata": {},
   "source": []
  }
 ],
 "metadata": {
  "kernelspec": {
   "display_name": "Python 3",
   "language": "python",
   "name": "python3"
  },
  "language_info": {
   "codemirror_mode": {
    "name": "ipython",
    "version": 3
   },
   "file_extension": ".py",
   "mimetype": "text/x-python",
   "name": "python",
   "nbconvert_exporter": "python",
   "pygments_lexer": "ipython3",
   "version": "3.11.3"
  },
  "orig_nbformat": 4
 },
 "nbformat": 4,
 "nbformat_minor": 2
}
